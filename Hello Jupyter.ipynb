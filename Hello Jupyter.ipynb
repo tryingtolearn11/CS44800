{
 "cells": [
  {
   "cell_type": "markdown",
   "id": "9dee9f7e",
   "metadata": {},
   "source": [
    "[![Open In Colab](https://colab.research.google.com/assets/colab-badge.svg)](https://colab.research.google.com/github/tryingtolearn11/CS44800/blob/main/Hello%20Jupyter.ipynb)"
   ]
  },
  {
   "cell_type": "markdown",
   "id": "64c8032a",
   "metadata": {},
   "source": [
    "print('Damien')"
   ]
  },
  {
   "cell_type": "markdown",
   "id": "9386d455",
   "metadata": {},
   "source": [
    "### a past solution to a simple advent of code problem [2015]\n",
    "#### https://adventofcode.com/2015/day/3\n",
    "\n"
   ]
  },
  {
   "cell_type": "markdown",
   "id": "0ad44788",
   "metadata": {},
   "source": [
    "![p1.png](aoc_pics/p1.png)"
   ]
  },
  {
   "cell_type": "code",
   "execution_count": 1,
   "id": "59a90228",
   "metadata": {},
   "outputs": [
    {
     "name": "stdout",
     "output_type": "stream",
     "text": [
      "Houses visited :  2572\n"
     ]
    }
   ],
   "source": [
    "# Day 3: Perfectly Spherical Houses in a Vacuum\n",
    "\n",
    "def find_total_houses_p1(f):\n",
    "    instructions = f.read()\n",
    "    houses = set()\n",
    "    x, y = 0, 0\n",
    "    start = (x, y)\n",
    "    current = start \n",
    "    houses.add(start)\n",
    "    \n",
    "    # Store position as tuple and increment/decrement respectively to each direction\n",
    "    for i in range(len(instructions)):\n",
    "        if instructions[i] == '^': # Up\n",
    "            y-=1\n",
    "        elif instructions[i] == 'v': # Down\n",
    "            y+=1\n",
    "        elif instructions[i] == \"<\": # Left\n",
    "            x-=1\n",
    "        else:\n",
    "            x+=1\n",
    "        current = (x, y)\n",
    "        # print(\"Current Position : \", current)    \n",
    "        houses.add(current)\n",
    "    # print(houses)\n",
    "    print(\"Houses visited : \", len(houses))     \n",
    "\n",
    "find_total_houses_p1(f=open(\"input.txt\",\"r\"))"
   ]
  },
  {
   "cell_type": "markdown",
   "id": "ba95c61d",
   "metadata": {},
   "source": [
    "![p2.png](aoc_pics/p2.png)"
   ]
  },
  {
   "cell_type": "code",
   "execution_count": 2,
   "id": "4eb8c4bd",
   "metadata": {},
   "outputs": [
    {
     "name": "stdout",
     "output_type": "stream",
     "text": [
      "Houses visited :  2631\n"
     ]
    }
   ],
   "source": [
    "# ----------Part Two---------------------------\n",
    "\n",
    "def find_total_houses_p2(f):\n",
    "    instructions = f.read()\n",
    "    houses = set()\n",
    "    x, y = 0, 0\n",
    "    a, b = x, y\n",
    "    start = (x, y)\n",
    "    # Set Santa's current Position to Start\n",
    "    currentSanta = start\n",
    "    # Set Robo-Santa's curr pos to start too\n",
    "    currentRobo = start \n",
    "    houses.add(start)\n",
    "\n",
    "    for i in range(len(instructions)):\n",
    "        if i % 2 == 0: # If Even Give Instructions to Santa\n",
    "            if instructions[i] == '^': # Up\n",
    "                y-=1\n",
    "            elif instructions[i] == 'v': # Down\n",
    "                y+=1\n",
    "            elif instructions[i] == \"<\": # Left\n",
    "                x-=1\n",
    "            else:\n",
    "                x+=1\n",
    "            currentSanta = (x, y)\n",
    "        else: # i is odd -> Give instructions to Robo-Santa\n",
    "            if instructions[i] == '^': # Up\n",
    "                b-=1\n",
    "            elif instructions[i] == 'v': # Down\n",
    "                b+=1\n",
    "            elif instructions[i] == \"<\": # Left\n",
    "                a-=1\n",
    "            else:\n",
    "                a+=1\n",
    "            currentRobo = (a, b)\n",
    "\n",
    "        #print(\"Current Santa Position : \", currentSanta)    \n",
    "        #print(\"Current Robo- Position : \", currentRobo)\n",
    "        houses.add(currentSanta)\n",
    "        houses.add(currentRobo)\n",
    "    # print(houses)\n",
    "    print(\"Houses visited : \", len(houses))     \n",
    "\n",
    "find_total_houses_p2(f=open(\"input.txt\",\"r\"))\n"
   ]
  },
  {
   "cell_type": "markdown",
   "id": "2b61a735",
   "metadata": {},
   "source": [
    "# Explanation \n",
    "### Part One\n",
    "In Part One, I used a tuple of (x, y) to denote Santa's postion on the infinite grid. Our input would be the arrow-like characters denoted by \"< , > , ^, v\". To represent horizontal movement we can update (x) in (x, y) and for vertical it is (y). \n",
    "I used a set since we are looking for the number of houses with _**at least**_ one present. A set would not contain any duplicates so we retain just the number of unique houses visited. \n",
    "\n",
    "### Part Two\n",
    "Here, the conditions are slightly different where Santa now has a helper to speed up his journey. Now they take turns moving using the same set of directions. We solve this by using modulo and having Santa move when the the i-th instruction is even, and Robo moves when i-th instruction is odd."
   ]
  },
  {
   "cell_type": "markdown",
   "id": "c3c03f05",
   "metadata": {},
   "source": [
    "![ml.png](ml_meme.jpg)"
   ]
  }
 ],
 "metadata": {
  "kernelspec": {
   "display_name": "Python 3 (ipykernel)",
   "language": "python",
   "name": "python3"
  },
  "language_info": {
   "codemirror_mode": {
    "name": "ipython",
    "version": 3
   },
   "file_extension": ".py",
   "mimetype": "text/x-python",
   "name": "python",
   "nbconvert_exporter": "python",
   "pygments_lexer": "ipython3",
   "version": "3.8.10"
  }
 },
 "nbformat": 4,
 "nbformat_minor": 5
}
